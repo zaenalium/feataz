{
 "cells": [
  {
   "cell_type": "code",
   "execution_count": 4,
   "metadata": {},
   "outputs": [],
   "source": [
    "import polars as pl\n",
    "from datetime import datetime\n",
    "import pandas as pd\n",
    "from typing import Any, List, Union, Dict\n",
    "\n",
    "from feataz.utils import check_data, is_variable_available, find_eligible_categorical_variables\n",
    "\n",
    "from typing import List, Optional, Dict, Union\n",
    "\n",
    "from pydantic import BaseModel"
   ]
  },
  {
   "cell_type": "code",
   "execution_count": 2,
   "metadata": {},
   "outputs": [],
   "source": [
    "from feataz.base_init import (\n",
    "    CategoricalInitMixin,\n",
    "    CategoricalMethodsMixin,\n",
    ")\n"
   ]
  },
  {
   "cell_type": "code",
   "execution_count": 3,
   "metadata": {},
   "outputs": [],
   "source": [
    "#class OneHotEncoder(CategoricalInitMixin, CategoricalMethodsMixin):\n"
   ]
  },
  {
   "cell_type": "code",
   "execution_count": 5,
   "metadata": {},
   "outputs": [],
   "source": [
    "class OneHot(CategoricalInitMixin, CategoricalMethodsMixin):\n",
    "    \"\"\"One Hot Encoder class.\"\"\"\n",
    "\n",
    "    def __init__(self, \n",
    "                 variable:  Union[None, int, str, List[Union[str, int]], Dict] = None, \n",
    "                 n_top_category: Optional[int] = None, \n",
    "                 drop_first: bool = False, \n",
    "                 keep_original: bool = False\n",
    "                 ) -> None:\n",
    "        \"\"\"Init.\n",
    "\n",
    "        Args:\n",
    "            variable (str | list | dict): list of features to encode\n",
    "            n_top_category (int): drop or keep the one hot encoded column\n",
    "            drop_first\n",
    "            keep_original\n",
    "        \"\"\"\n",
    "        self.n_top_category = n_top_category\n",
    "        self.drop_first = drop_first\n",
    "        self.variable = variable\n",
    "        self.keep_original = keep_original\n",
    "\n",
    "    def fit(self, data: Union[pl.DataFrame, pd.DataFrame]):\n",
    "        \"\"\"\n",
    "        \"\"\"\n",
    "        \n",
    "        df = check_data(data)\n",
    "\n",
    "        most_freq = {}\n",
    "        if self.variable:\n",
    "            if type(self.variable) == dict:\n",
    "                var = list(self.variable.keys)\n",
    "                for j in var:\n",
    "                    n_top = self.variable[j]\n",
    "                    most_freq[j] = df[j].value_counts().sort(by = 'count',\n",
    "                                         descending = True)[:n_top][j].to_list()\n",
    "            else:\n",
    "                var = list(self.variable)\n",
    "\n",
    "        else:\n",
    "            var = find_eligible_categorical_variables(df)\n",
    "\n",
    "        if self.n_top_category:\n",
    "            for j in var:\n",
    "                most_freq[j] = df[j].value_counts(\n",
    "                                    ).sort(by = 'count',\n",
    "                                     descending = True)[:self.n_top_category][j].to_list()\n",
    "        \n",
    "        is_variable_available(df, var)\n",
    "\n",
    "        self.var = var\n",
    "        self.most_freq = most_freq\n",
    "        return self\n",
    "\n",
    "    def transform(self, data):\n",
    "        df = check_data(data)\n",
    "\n",
    "        is_variable_available(df, self.var)\n",
    "\n",
    "        if not self.most_freq:\n",
    "            dum = df[self.var].to_dummies(drop_first = self.drop_first)\n",
    "        else:\n",
    "            dum = pl.DataFrame([])\n",
    "            for i in self.var:\n",
    "                items = [str(x) for x in self.most_freq[i]]\n",
    "                tmp = df.select(i).with_columns(pl.when(pl.col(i).cast(str).is_in(items) == False)\n",
    "                                     .then(pl.lit(None))\n",
    "                                     .otherwise(pl.col(i))\n",
    "                                     .alias(i)\n",
    "                                     )\n",
    "                dum = pl.concat([dum, tmp], how = 'horizontal')\n",
    "        dum = dum.to_dummies(drop_first = self.drop_first)\n",
    "        if not self.keep_original:\n",
    "            result = pl.concat([df.drop(self.var),dum ], how = 'horizontal')\n",
    "        else:\n",
    "            result = pl.concat([df,dum ], how = 'horizontal')\n",
    "            \n",
    "        return result\n"
   ]
  },
  {
   "cell_type": "code",
   "execution_count": null,
   "metadata": {},
   "outputs": [],
   "source": []
  }
 ],
 "metadata": {
  "kernelspec": {
   "display_name": "base",
   "language": "python",
   "name": "python3"
  },
  "language_info": {
   "codemirror_mode": {
    "name": "ipython",
    "version": 3
   },
   "file_extension": ".py",
   "mimetype": "text/x-python",
   "name": "python",
   "nbconvert_exporter": "python",
   "pygments_lexer": "ipython3",
   "version": "3.12.4"
  }
 },
 "nbformat": 4,
 "nbformat_minor": 2
}
