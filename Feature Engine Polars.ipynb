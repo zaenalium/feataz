{
 "cells": [
  {
   "cell_type": "code",
   "execution_count": 1,
   "metadata": {},
   "outputs": [],
   "source": [
    "import polars as pl\n",
    "from datetime import datetime\n",
    "import pandas as pd\n",
    "\n",
    "from feataz.utils import check_data"
   ]
  },
  {
   "cell_type": "code",
   "execution_count": 98,
   "metadata": {},
   "outputs": [
    {
     "data": {
      "text/html": [
       "<i>naive plan: (run <b>LazyFrame.explain(optimized=True)</b> to see the optimized plan)</i>\n",
       "    <p></p>\n",
       "    <div>DF [\"PassengerId\", \"Survived\", \"Pclass\", \"Name\"]; PROJECT */12 COLUMNS; SELECTION: None</div>"
      ],
      "text/plain": [
       "<LazyFrame at 0x7F0A5B0449B0>"
      ]
     },
     "execution_count": 98,
     "metadata": {},
     "output_type": "execute_result"
    }
   ],
   "source": [
    "df = pl.read_csv(\"data/train.csv\")"
   ]
  },
  {
   "cell_type": "code",
   "execution_count": 3,
   "metadata": {},
   "outputs": [
    {
     "data": {
      "text/plain": [
       "False"
      ]
     },
     "execution_count": 3,
     "metadata": {},
     "output_type": "execute_result"
    }
   ],
   "source": [
    "import numpy as np\n",
    "isinstance(df, (np.generic, np.ndarray))"
   ]
  },
  {
   "cell_type": "code",
   "execution_count": 4,
   "metadata": {},
   "outputs": [
    {
     "data": {
      "text/plain": [
       "891"
      ]
     },
     "execution_count": 4,
     "metadata": {},
     "output_type": "execute_result"
    }
   ],
   "source": [
    "df.__len__()"
   ]
  },
  {
   "cell_type": "code",
   "execution_count": 27,
   "metadata": {},
   "outputs": [],
   "source": [
    "from typing import Any, List, Union, Dict\n",
    "import polars as pl\n",
    "\n",
    "def find_eligible_categorical_variables(X: pl.DataFrame, n_unique: int = 20) -> List[Union[str, int]]:\n",
    "\n",
    "    variables = [x for x in X.columns if X.schema[x] in \n",
    "                    [pl.datatypes.String,\n",
    "                      pl.datatypes.Categorical,\n",
    "                      pl.datatypes.Enum,\n",
    "                      pl.datatypes.Utf8]]\n",
    "\n",
    "    if len(variables) == 0:\n",
    "        raise TypeError(\n",
    "            \"No categorical variables found in this dataframe. Please check \"\n",
    "            \"variable format with pandas dtypes.\"\n",
    "        )\n",
    "\n",
    "    vars = []\n",
    "    for v in variables:\n",
    "        if X[v].n_unique() <= n_unique:\n",
    "            vars.append(v)\n",
    "    return vars"
   ]
  },
  {
   "cell_type": "code",
   "execution_count": 7,
   "metadata": {},
   "outputs": [
    {
     "data": {
      "text/plain": [
       "['Sex', 'Embarked']"
      ]
     },
     "execution_count": 7,
     "metadata": {},
     "output_type": "execute_result"
    }
   ],
   "source": [
    "find_eligible_categorical_variables(df)"
   ]
  },
  {
   "cell_type": "code",
   "execution_count": 116,
   "metadata": {},
   "outputs": [],
   "source": [
    "from typing import List, Optional, Dict, Union\n",
    "\n",
    "from pydantic import BaseModel\n",
    "\n",
    "def is_variable_available(data, var):\n",
    "    not_cols = []\n",
    "    for i in var:\n",
    "        if i not in data.columns:\n",
    "            not_cols.append(i)\n",
    "\n",
    "    not_cols = \",\".join([\"'\"+x+\"'\" for x in not_cols])        \n",
    "\n",
    "    if len(not_cols)>0:\n",
    "        raise KeyError(f\"Error: This variables {not_cols} is/are not available in your dataset\")\n",
    "    \n",
    "\n",
    "class OneHot():\n",
    "    \"\"\"One Hot Encoder class.\"\"\"\n",
    "\n",
    "    def __init__(self, \n",
    "                 variable:  Union[None, int, str, List[Union[str, int]], Dict] = None, \n",
    "                 n_top_category: Optional[int] = None, \n",
    "                 drop_first: bool = False, \n",
    "                 keep_original: bool = False\n",
    "                 ) -> None:\n",
    "        \"\"\"Init.\n",
    "\n",
    "        Args:\n",
    "            variable (str | list | dict): list of features to encode\n",
    "            n_top_category (int): drop or keep the one hot encoded column\n",
    "            drop_first\n",
    "            keep_original\n",
    "        \"\"\"\n",
    "        self.n_top_category = n_top_category\n",
    "        self.drop_first = drop_first\n",
    "        self.variable = variable\n",
    "        self.keep_original = keep_original\n",
    "\n",
    "    def fit(self, data: Union[pl.DataFrame, pd.DataFrame]):\n",
    "        \"\"\"\n",
    "        \"\"\"\n",
    "        \n",
    "        df = check_data(data)\n",
    "\n",
    "        most_freq = {}\n",
    "        if self.variable:\n",
    "            if type(self.variable) == dict:\n",
    "                var = list(self.variable.keys)\n",
    "                for j in var:\n",
    "                    n_top = self.variable[j]\n",
    "                    most_freq[j] = df[j].value_counts().sort(by = 'count',\n",
    "                                         descending = True)[:n_top][j].to_list()\n",
    "            else:\n",
    "                var = list(self.variable)\n",
    "\n",
    "        else:\n",
    "            var = find_eligible_categorical_variables(df)\n",
    "\n",
    "        if self.n_top_category:\n",
    "            for j in var:\n",
    "                most_freq[j] = df[j].value_counts(\n",
    "                                    ).sort(by = 'count',\n",
    "                                     descending = True)[:self.n_top_category][j].to_list()\n",
    "        \n",
    "        is_variable_available(df, var)\n",
    "\n",
    "        self.var = var\n",
    "        self.most_freq = most_freq\n",
    "        return self\n",
    "\n",
    "    def transform(self, data):\n",
    "        df = check_data(data)\n",
    "\n",
    "        is_variable_available(df, self.var)\n",
    "\n",
    "        if not self.most_freq:\n",
    "            dum = df[self.var].to_dummies(drop_first = self.drop_first)\n",
    "        else:\n",
    "            dum = pl.DataFrame([])\n",
    "            for i in self.var:\n",
    "                items = [str(x) for x in self.most_freq[i]]\n",
    "                tmp = df.select(i).with_columns(pl.when(pl.col(i).cast(str).is_in(items) == False)\n",
    "                                     .then(pl.lit(None))\n",
    "                                     .otherwise(pl.col(i))\n",
    "                                     .alias(i)\n",
    "                                     )\n",
    "                dum = pl.concat([dum, tmp], how = 'horizontal')\n",
    "        dum = dum.to_dummies(drop_first = self.drop_first)\n",
    "        if not self.keep_original:\n",
    "            result = pl.concat([df.drop(self.var),dum ], how = 'horizontal')\n",
    "        else:\n",
    "            result = pl.concat([df,dum ], how = 'horizontal')\n",
    "            \n",
    "        return result"
   ]
  },
  {
   "cell_type": "code",
   "execution_count": 117,
   "metadata": {},
   "outputs": [
    {
     "data": {
      "text/plain": [
       "891"
      ]
     },
     "execution_count": 117,
     "metadata": {},
     "output_type": "execute_result"
    }
   ],
   "source": [
    "df.n_unique()"
   ]
  },
  {
   "cell_type": "code",
   "execution_count": 119,
   "metadata": {},
   "outputs": [
    {
     "name": "stdout",
     "output_type": "stream",
     "text": [
      "CPU times: user 7.94 ms, sys: 1.59 ms, total: 9.53 ms\n",
      "Wall time: 4.36 ms\n"
     ]
    }
   ],
   "source": [
    "%%time\n",
    "ohc = OneHot(variable=['Cabin'], n_top_category=3)\n",
    "fit = ohc.fit(df)\n",
    "df_new = fit.transform(df)"
   ]
  },
  {
   "cell_type": "code",
   "execution_count": 97,
   "metadata": {},
   "outputs": [
    {
     "name": "stdout",
     "output_type": "stream",
     "text": [
      "{'PassengerId': [1, 2, 3, 4, 5, 6, 7, 8, 9, 10, 11, 12, 13, 14, 15, 16, 17, 18, 19, 20, 21, 22, 23, 24, 25, 26, 27, 28, 29, 30, 31, 32, 33, 34, 35, 36, 37, 38, 39, 40, 41, 42, 43, 44, 45, 46, 47, 48, 49, 50, 51, 52, 53, 54, 55, 56, 57, 58, 59, 60, 61, 62, 63, 64, 65, 66, 67, 68, 69, 70, 71, 72, 73, 74, 75, 76, 77, 78, 79, 80, 81, 82, 83, 84, 85, 86, 87, 88, 89, 90, 91, 92, 93, 94, 95, 96, 97, 98, 99, 100, 101, 102, 103, 104, 105, 106, 107, 108, 109, 110, 111, 112, 113, 114, 115, 116, 117, 118, 119, 120, 121, 122, 123, 124, 125, 126, 127, 128, 129, 130, 131, 132, 133, 134, 135, 136, 137, 138, 139, 140, 141, 142, 143, 144, 145, 146, 147, 148, 149, 150, 151, 152, 153, 154, 155, 156, 157, 158, 159, 160, 161, 162, 163, 164, 165, 166, 167, 168, 169, 170, 171, 172, 173, 174, 175, 176, 177, 178, 179, 180, 181, 182, 183, 184, 185, 186, 187, 188, 189, 190, 191, 192, 193, 194, 195, 196, 197, 198, 199, 200, 201, 202, 203, 204, 205, 206, 207, 208, 209, 210, 211, 212, 213, 214, 215, 216, 217, 218, 219, 220, 221, 222, 223, 224, 225, 226, 227, 228, 229, 230, 231, 232, 233, 234, 235, 236, 237, 238, 239, 240, 241, 242, 243, 244, 245, 246, 247, 248, 249, 250, 251, 252, 253, 254, 255, 256, 257, 258, 259, 260, 261, 262, 263, 264, 265, 266, 267, 268, 269, 270, 271, 272, 273, 274, 275, 276, 277, 278, 279, 280, 281, 282, 283, 284, 285, 286, 287, 288, 289, 290, 291, 292, 293, 294, 295, 296, 297, 298, 299, 300, 301, 302, 303, 304, 305, 306, 307, 308, 309, 310, 311, 312, 313, 314, 315, 316, 317, 318, 319, 320, 321, 322, 323, 324, 325, 326, 327, 328, 329, 330, 331, 332, 333, 334, 335, 336, 337, 338, 339, 340, 341, 342, 343, 344, 345, 346, 347, 348, 349, 350, 351, 352, 353, 354, 355, 356, 357, 358, 359, 360, 361, 362, 363, 364, 365, 366, 367, 368, 369, 370, 371, 372, 373, 374, 375, 376, 377, 378, 379, 380, 381, 382, 383, 384, 385, 386, 387, 388, 389, 390, 391, 392, 393, 394, 395, 396, 397, 398, 399, 400, 401, 402, 403, 404, 405, 406, 407, 408, 409, 410, 411, 412, 413, 414, 415, 416, 417, 418, 419, 420, 421, 422, 423, 424, 425, 426, 427, 428, 429, 430, 431, 432, 433, 434, 435, 436, 437, 438, 439, 440, 441, 442, 443, 444, 445, 446, 447, 448, 449, 450, 451, 452, 453, 454, 455, 456, 457, 458, 459, 460, 461, 462, 463, 464, 465, 466, 467, 468, 469, 470, 471, 472, 473, 474, 475, 476, 477, 478, 479, 480, 481, 482, 483, 484, 485, 486, 487, 488, 489, 490, 491, 492, 493, 494, 495, 496, 497, 498, 499, 500, 501, 502, 503, 504, 505, 506, 507, 508, 509, 510, 511, 512, 513, 514, 515, 516, 517, 518, 519, 520, 521, 522, 523, 524, 525, 526, 527, 528, 529, 530, 531, 532, 533, 534, 535, 536, 537, 538, 539, 540, 541, 542, 543, 544, 545, 546, 547, 548, 549, 550, 551, 552, 553, 554, 555, 556, 557, 558, 559, 560, 561, 562, 563, 564, 565, 566, 567, 568, 569, 570, 571, 572, 573, 574, 575, 576, 577, 578, 579, 580, 581, 582, 583, 584, 585, 586, 587, 588, 589, 590, 591, 592, 593, 594, 595, 596, 597, 598, 599, 600, 601, 602, 603, 604, 605, 606, 607, 608, 609, 610, 611, 612, 613, 614, 615, 616, 617, 618, 619, 620, 621, 622, 623, 624, 625, 626, 627, 628, 629, 630, 631, 632, 633, 634, 635, 636, 637, 638, 639, 640, 641, 642, 643, 644, 645, 646, 647, 648, 649, 650, 651, 652, 653, 654, 655, 656, 657, 658, 659, 660, 661, 662, 663, 664, 665, 666, 667, 668, 669, 670, 671, 672, 673, 674, 675, 676, 677, 678, 679, 680, 681, 682, 683, 684, 685, 686, 687, 688, 689, 690, 691, 692, 693, 694, 695, 696, 697, 698, 699, 700, 701, 702, 703, 704, 705, 706, 707, 708, 709, 710, 711, 712, 713, 714, 715, 716, 717, 718, 719, 720, 721, 722, 723, 724, 725, 726, 727, 728, 729, 730, 731, 732, 733, 734, 735, 736, 737, 738, 739, 740, 741, 742, 743, 744, 745, 746, 747, 748, 749, 750, 751, 752, 753, 754, 755, 756, 757, 758, 759, 760, 761, 762, 763, 764, 765, 766, 767, 768, 769, 770, 771, 772, 773, 774, 775, 776, 777, 778, 779, 780, 781, 782, 783, 784, 785, 786, 787, 788, 789, 790, 791, 792, 793, 794, 795, 796, 797, 798, 799, 800, 801, 802, 803, 804, 805, 806, 807, 808, 809, 810, 811, 812, 813, 814, 815, 816, 817, 818, 819, 820, 821, 822, 823, 824, 825, 826, 827, 828, 829, 830, 831, 832, 833, 834, 835, 836, 837, 838, 839, 840, 841, 842, 843, 844, 845, 846, 847, 848, 849, 850, 851, 852, 853, 854, 855, 856, 857, 858, 859, 860, 861, 862, 863, 864, 865, 866, 867, 868, 869, 870, 871, 872, 873, 874, 875, 876, 877, 878, 879, 880, 881, 882, 883, 884, 885, 886, 887, 888, 889, 890, 891], 'Survived': [0, 1], 'Pclass': [1, 2, 3], 'Name': ['Hassab, Mr. Hammad', 'Lester, Mr. James', 'Connors, Mr. Patrick', 'Moore, Mr. Leonard Charles', 'Williams, Mr. Howard Hugh \"Harry\"', 'Andersson, Mrs. Anders Johan (Alfrida Konstantia Brogren)', 'Braund, Mr. Owen Harris', 'Serepeca, Miss. Augusta', 'Lurette, Miss. Elise', 'Tikkanen, Mr. Juho', 'Campbell, Mr. William', \"O'Brien, Mr. Timothy\", 'Laroche, Mrs. Joseph (Juliette Marie Louise Lafargue)', 'Hagland, Mr. Ingvald Olai Olsen', 'Taylor, Mrs. Elmer Zebley (Juliet Cummins Wright)', 'Kilgannon, Mr. Thomas J', 'Nysten, Miss. Anna Sofia', 'Berglund, Mr. Karl Ivar Sven', 'McCoy, Mr. Bernard', 'Giles, Mr. Frederick Edward', 'Burke, Mr. Jeremiah', 'Vander Cruyssen, Mr. Victor', 'Laleff, Mr. Kristo', 'Johnston, Miss. Catherine Helen \"Carrie\"', 'Pettersson, Miss. Ellen Natalia', 'Goncalves, Mr. Manuel Estanslas', 'Yasbeck, Mr. Antoni', 'Moor, Master. Meier', 'Arnold-Franchi, Mrs. Josef (Josefine Franchi)', 'Touma, Mrs. Darwis (Hanne Youssef Razi)', 'Gillespie, Mr. William Henry', 'Nirva, Mr. Iisakki Antino Aijo', 'Beckwith, Mr. Richard Leonard', 'de Mulder, Mr. Theodore', 'Renouf, Mrs. Peter Henry (Lillian Jefferys)', 'Norman, Mr. Robert Douglas', 'Frauenthal, Mrs. Henry William (Clara Heinsheimer)', 'Panula, Master. Juha Niilo', 'Hart, Mr. Benjamin', 'Levy, Mr. Rene Jacques', 'Betros, Mr. Tannous', 'McGowan, Miss. Anna \"Annie\"', 'Parkes, Mr. Francis \"Frank\"', 'Leinonen, Mr. Antti Gustaf', 'Trout, Mrs. William H (Jessie L)', 'Pickard, Mr. Berk (Berk Trembisky)', 'Heikkinen, Miss. Laina', 'Holverson, Mr. Alexander Oskar', 'Uruchurtu, Don. Manuel E', 'Novel, Mr. Mansouer', 'Ilett, Miss. Bertha', 'Carter, Mr. William Ernest', 'Bystrom, Mrs. (Karolina)', 'Harper, Mrs. Henry Sleeper (Myna Haxtun)', 'Bateman, Rev. Robert James', 'Johnson, Miss. Eleanor Ileen', 'Weir, Col. John', 'Ostby, Mr. Engelhart Cornelius', 'Karaic, Mr. Milan', 'Bengtsson, Mr. John Viktor', 'Calderhead, Mr. Edward Pennington', 'Byles, Rev. Thomas Roussel Davids', 'Crease, Mr. Ernest James', 'Penasco y Castellana, Mrs. Victor de Satode (Maria Josefa Perez de Soto y Vallejo)', 'Farthing, Mr. John', 'Caldwell, Master. Alden Gates', 'Honkanen, Miss. Eliina', 'Jansson, Mr. Carl Olof', 'Vander Planke, Miss. Augusta Maria', 'Lovell, Mr. John Hall (\"Henry\")', 'Foo, Mr. Choong', 'Edvardsson, Mr. Gustaf Hjalmar', 'Connaghton, Mr. Michael', 'Scanlan, Mr. James', 'Ibrahim Shawah, Mr. Yousseff', 'Meyer, Mr. August', 'Brown, Mr. Thomas William Solomon', 'Coleridge, Mr. Reginald Charles', 'Willey, Mr. Edward', 'Sutehall, Mr. Henry Jr', 'Arnold-Franchi, Mr. Josef', 'Zabour, Miss. Hileni', 'Ryerson, Miss. Susan Parker \"Suzette\"', 'Moran, Mr. James', 'Kelly, Miss. Anna Katherine \"Annie Kate\"', 'Emanuel, Miss. Virginia Ethel', 'Cairns, Mr. Alexander', 'Harder, Mr. George Achilles', 'Brocklebank, Mr. William Alfred', 'Dean, Master. Bertram Vere', 'Meanwell, Miss. (Marion Ogden)', 'Sjostedt, Mr. Ernst Adolf', 'Peters, Miss. Katie', 'Bourke, Mr. John', 'Troupiansky, Mr. Moses Aaron', 'Rood, Mr. Hugh Roscoe', 'Danbom, Mrs. Ernst Gilbert (Anna Sigrid Maria Brogren)', 'Fortune, Mr. Mark', 'Lesurer, Mr. Gustave J', 'Mamee, Mr. Hanna', 'Boulos, Miss. Nourelain', 'Elias, Mr. Joseph Jr', 'Stead, Mr. William Thomas', 'Jenkin, Mr. Stephen Curnow', 'Kvillner, Mr. Johan Henrik Johannesson', 'Asplund, Mrs. Carl Oscar (Selma Augusta Emilia Johansson)', 'Coutts, Master. William Loch \"William\"', 'Aubart, Mme. Leontine Pauline', 'Gallagher, Mr. Martin', 'Wiseman, Mr. Phillippe', 'Daniel, Mr. Robert Williams', 'O\\'Dwyer, Miss. Ellen \"Nellie\"', 'Duran y More, Miss. Asuncion', 'Chip, Mr. Chang', 'Turkula, Mrs. (Hedwig)', 'Collyer, Mrs. Harvey (Charlotte Annie Tate)', 'Masselmani, Mrs. Fatima', 'Healy, Miss. Hanora \"Nora\"', 'Hickman, Mr. Leonard Mark', 'Bostandyeff, Mr. Guentcho', 'Dantcheff, Mr. Ristiu', 'Morley, Mr. Henry Samuel (\"Mr Henry Marshall\")', 'Calic, Mr. Jovo', 'Hansen, Mr. Henrik Juul', 'Vestrom, Miss. Hulda Amanda Adolfina', 'Rosblom, Mrs. Viktor (Helena Wilhelmina)', 'Thayer, Mrs. John Borland (Marian Longstreth Morris)', 'Slayter, Miss. Hilda Mary', 'Gilinski, Mr. Eliezer', 'Marvin, Mr. Daniel Warner', 'Richards, Mrs. Sidney (Emily Hocking)', 'Jonkoff, Mr. Lalio', 'McCormack, Mr. Thomas Joseph', 'van Melkebeke, Mr. Philemon', 'Andrews, Miss. Kornelia Theodosia', 'Hood, Mr. Ambrose Jr', 'Barton, Mr. David John', 'Tornquist, Mr. William Henry', 'Nilsson, Miss. Helmina Josefina', 'Gustafsson, Mr. Johan Birger', 'Yousseff, Mr. Gerious', 'Mannion, Miss. Margareth', 'Moran, Mr. Daniel J', 'Sandstrom, Miss. Marguerite Rut', 'Lindblom, Miss. Augusta Charlotta', 'Perreault, Miss. Anne', 'Cacic, Mr. Luka', 'Lam, Mr. Len', 'Palsson, Miss. Torborg Danira', 'Sunderland, Mr. Victor Francis', 'Funk, Miss. Annie Clemmer', 'Staneff, Mr. Ivan', 'Turcin, Mr. Stjepan', 'McGovern, Miss. Mary', 'Hosono, Mr. Masabumi', 'Matthews, Mr. William John', 'Artagaveytia, Mr. Ramon', 'Drazenoic, Mr. Jozef', 'Skoog, Miss. Mabel', 'Smith, Mr. Richard William', 'Harris, Mrs. Henry Birkhardt (Irene Wallach)', 'Radeff, Mr. Alexander', 'Abbing, Mr. Anthony', 'Cameron, Miss. Clear Annie', \"O'Brien, Mr. Thomas\", 'Goldenberg, Mrs. Samuel L (Edwiga Grabowska)', 'Mellors, Mr. William John', 'Taussig, Miss. Ruth', 'Parr, Mr. William Henry Marsh', 'West, Miss. Constance Mirium', 'Larsson, Mr. Bengt Edvin', 'Asplund, Master. Edvin Rojj Felix', 'Jalsevac, Mr. Ivan', 'Carter, Rev. Ernest Courtenay', 'Baxter, Mr. Quigg Edmond', 'Cribb, Mr. John Hatfield', 'Goodwin, Master. Sidney Leonard', 'Flynn, Mr. John Irwin (\"Irving\")', 'Vanden Steen, Mr. Leo Peter', 'Landergren, Miss. Aurora Adelia', 'Silverthorne, Mr. Spencer Victor', 'Gilnagh, Miss. Katherine \"Katie\"', 'Ivanoff, Mr. Kanio', 'Blank, Mr. Henry', 'Asplund, Master. Clarence Gustaf Hugo', 'Peuchen, Major. Arthur Godfrey', 'Theobald, Mr. Thomas Leonard', 'Garfirth, Mr. John', 'Brewe, Dr. Arthur Jackson', 'Hoyt, Mr. William Fisher', 'Slemen, Mr. Richard James', 'Tobin, Mr. Roger', 'Andersson, Miss. Ebba Iris Alfrida', 'Francatelli, Miss. Laura Mabel', 'Astor, Mrs. John Jacob (Madeleine Talmadge Force)', 'Compton, Miss. Sara Rebecca', 'Butt, Major. Archibald Willingham', 'McMahon, Mr. Martin', 'Hodges, Mr. Henry Price', 'Williams, Mr. Charles Eugene', 'Peter, Miss. Anna', 'Strandberg, Miss. Ida Sofia', 'Lemore, Mrs. (Amelia Milley)', 'Richard, Mr. Emile', 'de Messemaeker, Mrs. Guillaume Joseph (Emma)', 'Richards, Master. William Rowe', 'Beesley, Mr. Lawrence', 'Christmann, Mr. Emil', 'Harris, Mr. George', 'Jacobsohn, Mrs. Sidney Samuel (Amy Frances Christy)', 'Meo, Mr. Alfonzo', 'Jonsson, Mr. Carl', 'McGough, Mr. James Robert', 'Eustis, Miss. Elizabeth Mussey', 'Collyer, Mr. Harvey', 'Coxon, Mr. Daniel', 'Ali, Mr. Ahmed', 'Homer, Mr. Harry (\"Mr E Haven\")', 'Abbott, Mr. Rossmore Edward', 'Hogeboom, Mrs. John C (Anna Andrews)', 'Wick, Miss. Mary Natalie', 'Allison, Mrs. Hudson J C (Bessie Waldo Daniels)', 'Wright, Mr. George', 'Guggenheim, Mr. Benjamin', 'Otter, Mr. Richard', 'Lulic, Mr. Nikola', 'Bryhl, Mr. Kurt Arnold Gottfrid', 'Icard, Miss. Amelie', 'Lefebre, Miss. Ida', 'Karun, Miss. Manca', 'Mack, Mrs. (Mary)', 'Knight, Mr. Robert J', 'Behr, Mr. Karl Howell', 'Wick, Mrs. George Dennick (Mary Hitchcock)', 'Morley, Mr. William', 'Simmons, Mr. John', 'Slocovski, Mr. Selman Francis', 'Calic, Mr. Petar', 'Ryerson, Miss. Emily Borie', 'Graham, Mr. George Edward', 'Mitkoff, Mr. Mito', 'Brown, Mrs. Thomas William Solomon (Elizabeth Catherine Ford)', 'Sage, Miss. Dorothy Edith \"Dolly\"', 'Chambers, Mr. Norman Campbell', 'Shelley, Mrs. William (Imanita Parrish Hall)', 'Caram, Mrs. Joseph (Maria Elias)', 'Cleaver, Miss. Alice', 'Rice, Master. Eric', 'Pavlovic, Mr. Stefo', 'Berriman, Mr. William John', 'Fry, Mr. Richard', 'Flynn, Mr. John', 'Kimball, Mr. Edwin Nelson Jr', 'Mernagh, Mr. Robert', 'Ward, Miss. Anna', 'Longley, Miss. Gretchen Fiske', 'Carbines, Mr. William', 'Simonius-Blumer, Col. Oberst Alfons', 'Gaskell, Mr. Alfred', 'Maenpaa, Mr. Matti Alexanteri', 'Gee, Mr. Arthur H', 'Johansson, Mr. Gustaf Joel', 'Madigan, Miss. Margaret \"Maggie\"', 'Johnston, Mr. Andrew G', 'Cann, Mr. Ernest Charles', 'Ross, Mr. John Hugo', 'Navratil, Master. Edmond Roger', 'Kalvik, Mr. Johannes Halvorsen', 'Herman, Mrs. Samuel (Jane Laver)', 'Rush, Mr. Alfred George John', 'Elias, Mr. Dibo', 'Newell, Miss. Madeleine', 'Dahlberg, Miss. Gerda Ulrika', 'Svensson, Mr. Johan', 'Downton, Mr. William James', 'Andersson, Master. Sigvard Harald Elias', 'Lahtinen, Mrs. William (Anna Sylfven)', 'Nicholls, Mr. Joseph Charles', 'Gustafsson, Mr. Karl Gideon', 'Johnson, Mr. Alfred', 'Rekic, Mr. Tido', 'Bourke, Mrs. John (Catherine)', 'Klasen, Mr. Klas Albin', 'Carlsson, Mr. Frans Olof', 'Padro y Manent, Mr. Julian', 'Herman, Miss. Alice', 'Canavan, Miss. Mary', 'Hedman, Mr. Oskar Arvid', 'Attalah, Miss. Malake', 'Carlsson, Mr. August Sigfrid', 'Toomey, Miss. Ellen', 'Moraweck, Dr. Ernest', 'Hoyt, Mr. Frederick Maxfield', 'Rice, Master. George Hugh', 'Harrison, Mr. William', 'Perkin, Mr. John Henry', 'Jermyn, Miss. Annie', 'Soholt, Mr. Peter Andreas Lauritz Andersen', 'Panula, Mr. Jaako Arnold', 'Troutt, Miss. Edwina Celia \"Winnie\"', 'Asim, Mr. Adola', 'Smith, Mr. Thomas', 'Walker, Mr. William Anderson', 'Chapman, Mr. Charles Henry', 'Hart, Mrs. Benjamin (Esther Ada Bloomfield)', 'Gheorgheff, Mr. Stanio', 'Bradley, Mr. George (\"George Arthur Brayton\")', 'Harper, Mr. Henry Sleeper', 'Cardeza, Mr. Thomas Drake Martinez', 'Mallet, Mr. Albert', 'Davies, Master. John Morgan Jr', 'Davies, Mr. Alfred J', 'Davison, Mrs. Thomas Henry (Mary E Finck)', 'Torber, Mr. Ernst William', 'Daly, Mr. Peter Denis ', 'Sinkkonen, Miss. Anna', 'Backstrom, Mrs. Karl Alfred (Maria Mathilda Gustafsson)', 'Johannesen-Bratthammer, Mr. Bernt', 'Coutts, Master. Eden Leslie \"Neville\"', 'Van Impe, Mr. Jean Baptiste', 'Carrau, Mr. Francisco M', 'Saad, Mr. Khalil', 'Johnson, Mr. Malkolm Joackim', 'Nenkoff, Mr. Christo', 'Goldsmith, Mrs. Frank John (Emily Alice Brown)', 'Hippach, Miss. Jean Gertrude', 'Dimic, Mr. Jovan', 'Moussa, Mrs. (Mantoura Boulos)', 'Baclini, Miss. Marie Catherine', 'Olsen, Mr. Ole Martin', 'Ahlin, Mrs. Johan (Johanna Persdotter Larsson)', 'Nicholson, Mr. Arthur Ernest', 'Eitemiller, Mr. George Floyd', 'Nosworthy, Mr. Richard Cater', 'McNamee, Mr. Neal', 'Odahl, Mr. Nils Martin', 'Crosby, Capt. Edward Gifford', 'Nakid, Miss. Maria (\"Mary\")', 'Fahlstrom, Mr. Arne Jonas', 'Toufik, Mr. Nakli', 'Petroff, Mr. Pastcho (\"Pentcho\")', 'Meyer, Mrs. Edgar Joseph (Leila Saks)', 'Stone, Mrs. George Nelson (Martha Evelyn)', 'Saad, Mr. Amin', 'Gill, Mr. John William', 'Charters, Mr. David', 'Ford, Mrs. Edward (Margaret Ann Watson)', 'Stanley, Mr. Edward Roland', 'Johnson, Master. Harold Theodor', 'Gustafsson, Mr. Alfred Ossian', 'Peduzzi, Mr. Joseph', 'Widegren, Mr. Carl/Charles Peter', 'Silvey, Mrs. William Baird (Alice Munger)', 'Hendekovic, Mr. Ignjac', 'Williams-Lambert, Mr. Fletcher Fellows', 'Zimmerman, Mr. Leo', 'Long, Mr. Milton Clyde', 'Harris, Mr. Walter', 'Richards, Master. George Sibley', 'Bing, Mr. Lee', 'Goldsmith, Master. Frank John William \"Frankie\"', 'Horgan, Mr. John', 'Jensen, Mr. Hans Peder', 'Andrews, Mr. Thomas Jr', 'Phillips, Miss. Kate Florence (\"Mrs Kate Louise Phillips Marshall\")', 'Stewart, Mr. Albert A', 'Fortune, Miss. Alice Elizabeth', 'Davies, Mr. Charles Henry', 'Hocking, Mr. Richard George', 'Boulos, Mr. Hanna', 'Sawyer, Mr. Frederick Charles', 'Dick, Mr. Albert Adrian', 'Skoog, Master. Karl Thorsten', 'Sedgwick, Mr. Charles Frederick Waddington', 'Montvila, Rev. Juozas', 'Heininen, Miss. Wendla Maria', 'Myhrman, Mr. Pehr Fabian Oliver Malkolm', 'Bjornstrom-Steffansson, Mr. Mauritz Hakan', 'Stanley, Miss. Amy Zillah Elsie', 'Rouse, Mr. Richard Henry', 'Lefebre, Master. Henry Forbes', 'Giglio, Mr. Victor', 'Roebling, Mr. Washington Augustus II', 'Sheerlinck, Mr. Jan Baptist', 'Sobey, Mr. Samuel James Hayden', 'Taussig, Mr. Emil', 'O\\'Leary, Miss. Hanora \"Norah\"', 'Sloper, Mr. William Thompson', 'Sivic, Mr. Husein', 'Sutton, Mr. Frederick', 'Jussila, Miss. Mari Aina', 'Smith, Mr. James Clinch', 'Jacobsohn, Mr. Sidney Samuel', 'Fortune, Mr. Charles Alexander', 'Moor, Mrs. (Beila)', 'Foreman, Mr. Benjamin Laventall', 'Woolner, Mr. Hugh', 'del Carlo, Mr. Sebastiano', 'Sdycoff, Mr. Todor', 'Ridsdale, Miss. Lucy', 'Banfield, Mr. Frederick James', 'Skoog, Mrs. William (Anna Bernhardina Karlsson)', 'Murdlin, Mr. Joseph', 'Vander Planke, Mr. Leo Edmondus', 'Leeni, Mr. Fahim (\"Philip Zenni\")', 'Markoff, Mr. Marin', 'Frost, Mr. Anthony Wood \"Archie\"', 'Rice, Mrs. William (Margaret Norton)', 'Wiklund, Mr. Jakob Alfred', 'Chibnall, Mrs. (Edith Martha Bowerman)', 'Andersen-Jensen, Miss. Carla Christine Nielsine', 'Daly, Mr. Eugene Patrick', 'Birkeland, Mr. Hans Martin Monsen', 'Mellinger, Miss. Madeleine Violet', 'Andrew, Mr. Edgardo Samuel', 'Navratil, Master. Michel M', 'Attalah, Mr. Sleiman', 'Stankovic, Mr. Ivan', 'Abelson, Mr. Samuel', 'Chronopoulos, Mr. Apostolos', 'Hart, Miss. Eva Miriam', 'Mellinger, Mrs. (Elizabeth Anne Maidment)', 'Nicola-Yarred, Master. Elias', 'Smiljanic, Mr. Mile', 'Connolly, Miss. Kate', 'Baxter, Mrs. James (Helene DeLaudeniere Chaput)', 'Barbara, Mrs. (Catherine David)', 'Stoytcheff, Mr. Ilia', 'Allison, Master. Hudson Trevor', 'Collyer, Miss. Marjorie \"Lottie\"', 'Young, Miss. Marie Grice', 'Kink, Mr. Vincenz', 'Asplund, Miss. Lillian Gertrud', 'Zabour, Miss. Thamine', 'Petterson, Mr. Johan Emil', 'Goldenberg, Mr. Samuel L', 'Barkworth, Mr. Algernon Henry Wilson', 'Panula, Mrs. Juha (Maria Emilia Ojala)', 'Wilhelms, Mr. Charles', 'Humblen, Mr. Adolf Mathias Nicolai Olsen', 'Albimona, Mr. Nassef Cassem', 'Andersson, Miss. Erna Alexandra', 'Murphy, Miss. Katherine \"Kate\"', 'Sage, Mr. George John Jr', 'Thayer, Mr. John Borland', 'Blackwell, Mr. Stephen Weart', 'Ringhini, Mr. Sante', 'Ford, Miss. Doolina Margaret \"Daisy\"', 'Eklund, Mr. Hans Linus', 'Waelens, Mr. Achille', 'Leader, Dr. Alice (Farnham)', 'Karlsson, Mr. Nils August', 'Chapman, Mr. John Henry', 'Graham, Mrs. William Thompson (Edith Junkins)', 'Fox, Mr. Stanley Hubert', 'Bowerman, Miss. Elsie Edith', 'Palsson, Master. Gosta Leonard', 'Yrois, Miss. Henriette (\"Mrs Harbeck\")', 'Widener, Mr. Harry Elkins', 'Duff Gordon, Sir. Cosmo Edmund (\"Mr Morgan\")', 'Hansen, Mr. Henry Damsgaard', 'Coleff, Mr. Peju', 'Goodwin, Mrs. Frederick (Augusta Tyler)', 'Barbara, Miss. Saiide', 'de Pelsmaeker, Mr. Alfons', 'Cavendish, Mr. Tyrell William', 'Coleff, Mr. Satio', 'Wells, Miss. Joan', 'Turpin, Mrs. William John Robert (Dorothy Ann Wonnacott)', 'Sage, Miss. Constance Gladys', 'Williams, Mr. Charles Duane', 'Hippach, Mrs. Louis Albert (Ida Sophia Fischer)', 'Pengelly, Mr. Frederick William', 'Kiernan, Mr. Philip', 'Minahan, Dr. William Edward', 'Garside, Miss. Ethel', 'Elsbury, Mr. William James', 'Hickman, Mr. Lewis', 'Goodwin, Mr. Charles Edward', 'Taylor, Mr. Elmer Zebley', 'Thomas, Master. Assad Alexander', 'Chambers, Mrs. Norman Campbell (Bertha Griggs)', 'Yasbeck, Mrs. Antoni (Selini Alexander)', 'LeRoy, Miss. Bertha', 'Sage, Mr. Douglas Bullen', 'Abelson, Mrs. Samuel (Hannah Wizosky)', 'Sage, Master. Thomas Henry', 'Bissette, Miss. Amelia', 'Hagland, Mr. Konrad Mathias Reiersen', 'Celotti, Mr. Francesco', \"O'Connell, Mr. Patrick D\", 'Hocking, Mrs. Elizabeth (Eliza Needs)', 'Graham, Miss. Margaret Edith', 'Givard, Mr. Hans Kristensen', 'Bracken, Mr. James H', 'Lobb, Mr. William Arthur', 'Backstrom, Mr. Karl Alfred', 'Corn, Mr. Harry', 'Duane, Mr. Frank', 'Andreasson, Mr. Paul Edvin', 'Green, Mr. George Henry', 'Panula, Mr. Ernesti Arvid', 'Natsch, Mr. Charles H', 'Nasser, Mrs. Nicholas (Adele Achem)', 'Danoff, Mr. Yoto', 'Risien, Mr. Samuel Beard', 'O\\'Brien, Mrs. Thomas (Johanna \"Hannah\" Godfrey)', 'Weisz, Mrs. Leopold (Mathilde Francoise Pede)', 'Youseff, Mr. Gerious', 'Sharp, Mr. Percival James R', 'Rintamaki, Mr. Matti', 'Jardin, Mr. Jose Neto', 'Kirkland, Rev. Charles Leonard', 'Lindqvist, Mr. Eino William', 'Lam, Mr. Ali', 'Lievens, Mr. Rene Aime', 'Todoroff, Mr. Lalio', 'West, Mr. Edwy Arthur', 'Svensson, Mr. Olof', 'Mionoff, Mr. Stoytcho', 'Seward, Mr. Frederic Kimber', 'Chaffee, Mr. Herbert Fuller', 'Molson, Mr. Harry Markland', 'Robert, Mrs. Edward Scott (Elisabeth Walton McMillan)', 'Olsson, Miss. Elina', 'Sundman, Mr. Johan Julian', 'Johansson, Mr. Karl Johan', 'Hays, Mrs. Charles Melville (Clara Jennings Gregg)', 'Mallet, Master. Andre', 'Quick, Mrs. Frederick Charles (Jane Richards)', 'Moubarek, Master. Gerios', 'Hanna, Mr. Mansour', 'Razi, Mr. Raihed', 'Buss, Miss. Kate', 'Renouf, Mr. Peter Henry', 'Sagesser, Mlle. Emma', 'Yousif, Mr. Wazli', 'Hamalainen, Mrs. William (Anna)', 'Cook, Mr. Jacob', 'Baclini, Mrs. Solomon (Latifa Qurban)', 'Barah, Mr. Hanna Assi', 'Balkic, Mr. Cerin', 'Becker, Master. Richard F', 'Mudd, Mr. Thomas Charles', 'Beckwith, Mrs. Richard Leonard (Sallie Monypeny)', 'Nicola-Yarred, Miss. Jamila', 'Olsen, Mr. Karl Siegwart Andreas', 'Frauenthal, Dr. Henry William', 'Davidson, Mr. Thornton', 'Adams, Mr. John', 'Reuchlin, Jonkheer. John George', 'Cohen, Mr. Gurshon \"Gus\"', 'Ilmakangas, Miss. Pieta Sofia', 'Van Impe, Mrs. Jean Baptiste (Rosalie Paula Govaert)', 'Navratil, Mr. Michel (\"Louis M Hoffman\")', 'Bowen, Mr. David John \"Dai\"', 'Hakkarainen, Mr. Pekka Pietari', 'Cor, Mr. Liudevit', 'Moss, Mr. Albert Johan', 'Sadlier, Mr. Matthew', 'Kelly, Miss. Mary', 'Parrish, Mrs. (Lutie Davis)', 'Klaber, Mr. Herman', 'Windelov, Mr. Einar', 'Johnson, Mr. William Cahoone Jr', 'Devaney, Miss. Margaret Delia', 'Oreskovic, Mr. Luka', 'Sjoblom, Miss. Anna Sofia', 'Allison, Miss. Helen Loraine', 'Carter, Mrs. Ernest Courtenay (Lilian Hughes)', 'Najib, Miss. Adele Kiamie \"Jane\"', 'Robbins, Mr. Victor', 'Carter, Miss. Lucile Polk', 'Newell, Mr. Arthur Webster', 'Carter, Mrs. William Ernest (Lucile Polk)', 'McEvoy, Mr. Michael', 'Andersson, Miss. Ellis Anna Maria', 'Johnson, Mrs. Oscar W (Elisabeth Vilhelmina Berg)', 'Jussila, Miss. Katriina', 'Hays, Miss. Margaret Bechstein', 'Peter, Mrs. Catherine (Catherine Rizk)', 'Bourke, Miss. Mary', 'Maisner, Mr. Simon', 'Leitch, Miss. Jessie Wills', 'Greenberg, Mr. Samuel', 'Endres, Miss. Caroline Louise', 'Stranden, Mr. Juho', 'Hansen, Mr. Claus Peter', 'Barber, Miss. Ellen \"Nellie\"', 'Goodwin, Master. Harold Victor', 'Braund, Mr. Lewis Richard', 'Vande Velde, Mr. Johannes Joseph', 'Hawksford, Mr. Walter James', 'Tomlin, Mr. Ernest Portage', 'Nasser, Mr. Nicholas', 'Andersson, Mr. Anders Johan', 'Goodwin, Miss. Lillian Amy', 'Danbom, Mr. Ernst Gilbert', 'Moen, Mr. Sigurd Hansen', 'Hickman, Mr. Stanley George', 'Meek, Mrs. Thomas (Annie Louise Rowley)', 'Nankoff, Mr. Minko', 'Harper, Rev. John', 'Becker, Miss. Marion Louise', 'Allum, Mr. Owen George', 'Osman, Mrs. Mara', 'Silven, Miss. Lyyli Karoliina', 'Hoyt, Mrs. Frederick Maxfield (Jane Anne Forby)', 'Dakic, Mr. Branko', 'Butler, Mr. Reginald Fenton', 'Sage, Miss. Stella Anna', 'Dooley, Mr. Patrick', \"O'Driscoll, Miss. Bridget\", 'Rugg, Miss. Emily', 'Sirota, Mr. Maurice', 'Shellard, Mr. Frederick William', 'Goldsmith, Mr. Frank John', 'Moran, Miss. Bertha', 'Milling, Mr. Jacob Christian', 'Rothes, the Countess. of (Lucy Noel Martha Dyer-Edwards)', 'Spencer, Mrs. William Augustus (Marie Eugenie)', 'Plotcharsky, Mr. Vasil', 'Strom, Miss. Telma Matilda', 'Cherry, Miss. Gladys', 'Partner, Mr. Austen', 'Dodge, Master. Washington', 'Crosby, Miss. Harriet R', 'Gavey, Mr. Lawrence', 'Mullens, Miss. Katherine \"Katie\"', 'Thayer, Mr. John Borland Jr', 'Williams, Mr. Leslie', 'Swift, Mrs. Frederick Joel (Margaret Welles Barron)', 'Markun, Mr. Johann', 'Glynn, Miss. Mary Agatha', 'Nye, Mrs. (Elizabeth Ramell)', 'Johanson, Mr. Jakob Alfred', 'Futrelle, Mrs. Jacques Heath (Lily May Peel)', 'Denkoff, Mr. Mitto', 'Pinsky, Mrs. (Rosa)', 'Lindahl, Miss. Agda Thorilda Viktoria', 'Reed, Mr. James George', 'Minahan, Miss. Daisy E', 'Coelho, Mr. Domingos Fernandeo', 'Harknett, Miss. Alice Phoebe', 'Nakid, Mr. Sahid', 'Watt, Mrs. James (Elizabeth \"Bessie\" Inglis Milne)', 'Cumings, Mrs. John Bradley (Florence Briggs Thayer)', 'Carr, Miss. Helen \"Ellen\"', 'Ryan, Mr. Patrick', 'Laroche, Mr. Joseph Philippe Lemercier', 'Murphy, Miss. Margaret Jane', 'Alexander, Mr. William', 'Alhomaki, Mr. Ilmari Rudolf', 'Beavan, Mr. William Thomas', 'Hewlett, Mrs. (Mary D Kingcome) ', 'Watson, Mr. Ennis Hastings', 'Petroff, Mr. Nedelio', 'Bonnell, Miss. Elizabeth', 'Bidois, Miss. Rosalie', 'Ali, Mr. William', 'Newell, Miss. Marjorie', 'Harmer, Mr. Abraham (David Lishin)', 'Wheadon, Mr. Edward H', 'Cacic, Miss. Marija', 'Gustafsson, Mr. Anders Vilhelm', 'Hale, Mr. Reginald', 'Greenfield, Mr. William Bertram', 'Kantor, Mrs. Sinai (Miriam Sternin)', 'Beane, Mr. Edward', 'Haas, Miss. Aloisia', 'Keane, Miss. Nora A', 'Rommetvedt, Mr. Knud Paust', 'Lobb, Mrs. William Arthur (Cordelia K Stanlick)', 'Lefebre, Miss. Mathilde', 'Panula, Master. Urho Abraham', 'Augustsson, Mr. Albert', 'Petranec, Miss. Matilda', 'Dowdell, Miss. Elizabeth', 'Louch, Mrs. Charles Alexander (Alice Adelaide Slow)', \"O'Connor, Mr. Maurice\", 'Mitchell, Mr. Henry Michael', 'Leonard, Mr. Lionel', 'Moubarek, Master. Halim Gonios (\"William George\")', 'Pernot, Mr. Rene', 'Andersson, Miss. Sigrid Elisabeth', 'Sirayanian, Mr. Orsen', 'Andersson, Mr. August Edvard (\"Wennerstrom\")', 'Dennis, Mr. Samuel', 'Niskanen, Mr. Juha', 'Skoog, Miss. Margit Elizabeth', 'Boulos, Mrs. Joseph (Sultana)', 'Dick, Mrs. Albert Adrian (Vera Gillespie)', 'McCarthy, Mr. Timothy J', 'Isham, Miss. Ann Elizabeth', 'Johansson, Mr. Erik', 'Allen, Miss. Elisabeth Walton', 'Fynney, Mr. Joseph J', 'Doling, Mrs. John T (Ada Julia Bone)', 'Harris, Mr. Henry Birkhardt', 'Webber, Miss. Susan', 'Dorking, Mr. Edward Arthur', 'Ekstrom, Mr. Johan', 'Romaine, Mr. Charles Hallace (\"Mr C Rolmane\")', 'Doharr, Mr. Tannous', 'Silvey, Mr. William Baird', 'Kelly, Mr. James', 'Elias, Mr. Tannous', 'McDermott, Miss. Brigdet Delia', 'Beane, Mrs. Edward (Ethel Clarke)', 'Kallio, Mr. Nikolai Erland', 'Smith, Miss. Marion Elsie', 'Henry, Miss. Delia', 'Quick, Miss. Phyllis May', 'Lundahl, Mr. Johan Svensson', 'Lemberopolous, Mr. Peter L', 'Culumovic, Mr. Jeso', 'Appleton, Mrs. Edward Dale (Charlotte Lamson)', 'Persson, Mr. Ernst Ulrik', 'McKane, Mr. Peter David', 'Palsson, Mrs. Nils (Alma Cornelia Berglund)', 'Allen, Mr. William Henry', 'Skoog, Master. Harald', 'Olsson, Mr. Nils Johan Goransson', 'Warren, Mrs. Frank Manley (Anna Sophia Atkinson)', 'Hart, Mr. Henry', 'Bishop, Mr. Dickinson H', 'Abbott, Mrs. Stanton (Rosa Hunt)', 'Bishop, Mrs. Dickinson H (Helen Walton)', 'Clifford, Mr. George Quincy', 'Porter, Mr. Walter Chamberlain', 'Christy, Miss. Julie Rachel', 'Mineff, Mr. Ivan', 'Salonen, Mr. Johan Werner', 'Shorney, Mr. Charles Joseph', 'Rogers, Mr. William John', 'Laroche, Miss. Simonne Marie Anne Andree', 'Baumann, Mr. John D', 'Dahl, Mr. Karl Edwart', 'Jarvis, Mr. John Denzil', 'Strom, Mrs. Wilhelm (Elna Matilda Persson)', 'Osen, Mr. Olaf Elon', 'Brown, Mrs. James Joseph (Margaret Tobin)', 'Somerton, Mr. Francis William', 'Laitinen, Miss. Kristina Sofia', 'Frolicher-Stehli, Mr. Maxmillian', 'Davis, Miss. Mary', 'Pain, Dr. Alfred', 'Kenyon, Mrs. Frederick R (Marion)', 'Samaan, Mr. Youssef', 'Burns, Miss. Elizabeth Margaret', 'Drew, Mrs. James Vivian (Lulu Thorne Christian)', 'Vander Planke, Mrs. Julius (Emelia Maria Vandemoortele)', 'van Billiard, Mr. Austin Blyler', 'Nysveen, Mr. Johan Hansen', 'Mayne, Mlle. Berthe Antonine (\"Mrs de Villiers\")', 'Ayoub, Miss. Banoura', 'Kraeff, Mr. Theodor', 'Colley, Mr. Edward Pomeroy', 'Jensen, Mr. Svend Lauritz', 'Emir, Mr. Farred Chehab', 'Harrington, Mr. Charles H', 'Kelly, Mrs. Florence \"Fannie\"', 'Keane, Mr. Andrew \"Andy\"', 'Futrelle, Mr. Jacques Heath', 'Fortune, Miss. Mabel Helen', 'Bazzani, Miss. Albina', 'Saundercock, Mr. William Henry', 'Rice, Master. Eugene', 'Ball, Mrs. (Ada E Hall)', 'Rice, Master. Arthur', 'Robins, Mrs. Alexander A (Grace Charity Laury)', 'Andersson, Miss. Ingeborg Constanzia', 'Baclini, Miss. Eugenie', 'Meyer, Mr. Edgar Joseph', 'Sage, Mr. Frederick', 'Adahl, Mr. Mauritz Nils Martin', 'Vande Walle, Mr. Nestor Cyriel', 'Lehmann, Miss. Bertha', 'White, Mr. Percival Wayland', 'Cunningham, Mr. Alfred Fleming', 'Lennon, Mr. Denis', 'Sivola, Mr. Antti Wilhelm', 'Naidenoff, Mr. Penko', 'Baclini, Miss. Helene Barbara', 'Maioni, Miss. Roberta', 'Frolicher, Miss. Hedwig Margaritha', 'Patchett, Mr. George', 'Goldschmidt, Mr. George B', 'Madill, Miss. Georgette Alexandra', 'Kink-Heilmann, Miss. Luise Gretchen', 'Thorne, Mrs. Gertrude Maybelle', 'Fleming, Miss. Margaret', 'Hakkarainen, Mrs. Pekka Pietari (Elin Matilda Dolck)', 'Anderson, Mr. Harry', 'Hamalainen, Master. Viljo', 'Lines, Miss. Mary Conover', 'Ohman, Miss. Velin', 'Carter, Master. William Thornton II', 'Gale, Mr. Shadrach', 'Hold, Mr. Stephen', 'Panula, Master. Eino Viljami', 'Collander, Mr. Erik Gustaf', 'Lefebre, Miss. Jeannie', 'Taussig, Mrs. Emil (Tillie Mandelbaum)', 'Farrell, Mr. James', 'Pekoniemi, Mr. Edvard', 'Pears, Mr. Thomas Clinton', 'Ford, Miss. Robina Maggie \"Ruby\"', 'Madsen, Mr. Fridtjof Arne', 'Penasco y Castellana, Mr. Victor de Satode', 'Rothschild, Mrs. Martin (Elizabeth L. Barrett)', 'Angle, Mrs. William A (Florence \"Mary\" Agnes Hughes)', 'Turpin, Mr. William John Robert', 'Holverson, Mrs. Alexander Oskar (Mary Aline Towner)', 'Lahoud, Mr. Sarkis', 'Kassem, Mr. Fared', 'Hampe, Mr. Leon', 'Millet, Mr. Francis Davis', 'Hirvonen, Miss. Hildur E', 'McCoy, Miss. Agnes', 'Slabenoff, Mr. Petco', 'Pears, Mrs. Thomas (Edith Wearne)', 'Jussila, Mr. Eiriik', 'Lindell, Mr. Edvard Bengtsson', 'Doling, Miss. Elsie', 'Hegarty, Miss. Hanora \"Nora\"', 'Webber, Mr. James', 'Duff Gordon, Lady. (Lucille Christiana Sutherland) (\"Mrs Morgan\")', 'Turja, Miss. Anna Sofia', 'Moutal, Mr. Rahamin Haim', 'Lang, Mr. Fang', 'Faunthorpe, Mrs. Lizzie (Elizabeth Anne Wilkinson)', 'Lewy, Mr. Ervin G', 'Harper, Miss. Annie Jessie \"Nina\"', 'Stahelin-Maeglin, Dr. Max', 'Gronnestad, Mr. Daniel Danielsen', 'Holm, Mr. John Fredrik Alexander', 'Marechal, Mr. Pierre', 'Sandstrom, Mrs. Hjalmar (Agnes Charlotta Bengtsson)', 'Reynaldo, Ms. Encarnacion', 'Badt, Mr. Mohamed', 'Smart, Mr. John Montgomery', 'Salkjelsvik, Miss. Anna Kristine', 'White, Mr. Richard Frasar', 'Hunt, Mr. George Henry', 'Leyson, Mr. Robert William Norman', 'Rosblom, Mr. Viktor Richard', 'Keefe, Mr. Arthur', 'Dean, Mr. Bertram Frank', 'Oreskovic, Miss. Marija', \"O'Sullivan, Miss. Bridget Mary\", 'Palsson, Miss. Stina Viola', 'Olsen, Mr. Henry Margido', 'Morrow, Mr. Thomas Rowan', 'Van der hoef, Mr. Wyckoff', 'Hassan, Mr. Houssein G N', 'Douglas, Mr. Walter Donald', 'Caldwell, Mrs. Albert Francis (Sylvia Mae Harbaugh)', 'Kent, Mr. Edward Austin', 'Bailey, Mr. Percy Andrew', 'Mangan, Miss. Mary', 'Jensen, Mr. Niels Peder', 'Clarke, Mrs. Charles V (Ada Maria Winfield)', 'Jerwan, Mrs. Amin S (Marie Marthe Thuillard)', 'Vovk, Mr. Janko', 'West, Mrs. Edwy Arthur (Ada Mary Worth)', 'Saalfeld, Mr. Adolphe', 'Pasic, Mr. Jakob', 'Ford, Mr. William Neal', 'Goodwin, Master. William Frederick', 'Brown, Miss. Amelia \"Mildred\"', 'Aks, Mrs. Sam (Leah Rosen)', 'Larsson, Mr. August Viktor', 'Shutes, Miss. Elizabeth W', 'Olsvigen, Mr. Thor Anderson', 'Newsom, Miss. Helen Monypeny', 'Ling, Mr. Lee', 'Potter, Mrs. Thomas Jr (Lily Alexenia Wilson)', 'Mockler, Miss. Helen Mary \"Ellie\"', 'Kantor, Mr. Sinai', 'Spedden, Mrs. Frederic Oakley (Margaretta Corning Stone)', 'Reeves, Mr. David', 'Skoog, Mr. Wilhelm', 'Van Impe, Miss. Catharina', 'Flynn, Mr. James', 'Thorneycroft, Mrs. Percival (Florence Kate White)', 'Paulner, Mr. Uscher', 'Stephenson, Mrs. Walter Bertram (Martha Eustis)', 'Thorneycroft, Mr. Percival', 'Fischer, Mr. Eberhard Thelander', 'Ponesell, Mr. Martin'], 'Sex': ['male', 'female'], 'Age': [None, 0.42, 0.67, 0.75, 0.83, 0.92, 1.0, 2.0, 3.0, 4.0, 5.0, 6.0, 7.0, 8.0, 9.0, 10.0, 11.0, 12.0, 13.0, 14.0, 14.5, 15.0, 16.0, 17.0, 18.0, 19.0, 20.0, 20.5, 21.0, 22.0, 23.0, 23.5, 24.0, 24.5, 25.0, 26.0, 27.0, 28.0, 28.5, 29.0, 30.0, 30.5, 31.0, 32.0, 32.5, 33.0, 34.0, 34.5, 35.0, 36.0, 36.5, 37.0, 38.0, 39.0, 40.0, 40.5, 41.0, 42.0, 43.0, 44.0, 45.0, 45.5, 46.0, 47.0, 48.0, 49.0, 50.0, 51.0, 52.0, 53.0, 54.0, 55.0, 55.5, 56.0, 57.0, 58.0, 59.0, 60.0, 61.0, 62.0, 63.0, 64.0, 65.0, 66.0, 70.0, 70.5, 71.0, 74.0, 80.0], 'SibSp': [0, 1, 2, 3, 4, 5, 8], 'Parch': [0, 1, 2, 3, 4, 5, 6], 'Ticket': ['SC/Paris 2123', '349248', '113787', '113798', '347742', '244310', 'PC 17590', '370377', '312991', '11767', '7534', '2667', '347076', '19877', 'STON/O2. 3101282', '65306', '113789', '2691', '2628', 'PC 17582', 'SC/PARIS 2167', '2649', '315089', '11813', '323951', '248747', '349241', 'PC 17482', '368323', '349210', '24160', '350043', 'STON/O2. 3101290', '113806', 'A/5 21172', '244278', '234686', '382649', '4138', '250647', '113510', '350046', 'SOTON/OQ 392076', '349222', '345769', 'STON/O 2. 3101286', '350047', '19972', '2647', '11771', '248727', 'F.C. 12750', '29108', 'PC 17610', '19988', 'SOTON/O.Q. 392078', '7598', 'SOTON/OQ 3101317', 'A/5 3902', '11769', '250652', '2664', 'PC 17595', 'STON/O 2. 3101269', '19952', '13049', '349227', '3101295', 'PC 17593', 'STON/O 2. 3101274', '230433', '112053', '111369', '323592', '248731', '33638', '349236', '113505', '330931', '31028', '28665', '239856', '315090', '36568', 'STON/O 2. 3101289', '367231', '13568', '113783', '112058', '28403', '239853', '28228', '19928', '349207', '315097', '112059', '12749', 'SOTON/O.Q. 3101311', '110413', 'C.A. 2673', 'PC 17599', '349243', '11765', 'A/5 3594', '17465', '17463', '370369', 'S.O.C. 14879', '3474', '330980', '111361', '367232', '2624', 'SO/C 14885', '349228', '349224', '2651', '2661', '110813', '113804', '364848', '363291', '350417', '350042', 'STON/O 2. 3101275', '31027', '358585', '349910', '36947', '239854', '365222', '364846', '347080', '220367', '382652', 'C.A. 34651', '315088', 'PC 17572', '248740', '368703', 'C.A. 33111', '330923', 'A/5 21173', 'STON/O2. 3101279', '347067', '6563', 'SOTON/OQ 3101316', '349257', '347088', '330979', '349247', '13214', '26707', '367228', '374910', 'C.A./SOTON 34068', 'PC 17601', '2629', '2689', '4133', '343275', '347054', 'S.P. 3464', 'PC 17612', '230434', '7553', '376564', 'SC/PARIS 2146', 'STON/O 2. 3101273', '349912', 'PC 17475', '36866', '371110', 'C 4001', '2620', '19996', '345572', '13567', 'STON/O 2. 3101280', '248706', 'A/5 21171', '14311', '4134', 'PC 17600', '113794', '243847', '248698', '113800', '2627', '347062', '350404', '113781', '364850', '250643', '370376', '2694', '392096', '111240', '347466', 'PC 17760', '113514', '113767', '3101264', 'F.C.C. 13529', '312992', 'CA 2144', '350025', '2663', '35851', '230136', '345783', 'SOTON/OQ 392082', '29750', '347470', '229236', '2223', '2671', '345767', 'A/S 2816', 'W./C. 6607', '315037', '315098', '371060', '2926', '27849', '54636', '693', '330919', '237565', '367229', '11753', '363294', '364511', '315084', '112050', 'PC 17603', 'PC 17318', '2699', '330935', '35852', '349218', '341826', '28213', 'STON/O 2. 3101294', 'A/4 48871', '7546', '2653', '364506', '34218', '12233', '347087', '349212', '17474', '315094', 'C.A. 29178', 'C.A. 29395', '110564', '113501', '250655', '36967', 'PC 17596', '347081', 'PP 4348', 'F.C.C. 13531', 'S.O.P. 1166', 'STON/O 2. 3101285', '244373', '112379', 'P/PP 3381', '345778', 'A./5. 3235', 'STON/O 2. 3101288', 'S.C./PARIS 2079', '226875', '350050', '7545', '234360', '1601', '349203', 'A.5. 11206', '345774', '65303', '315086', '345763', '14973', '2687', '237789', '349251', '2631', 'F.C.C. 13528', '347078', '11774', '345781', 'C.A. 33595', '13502', '244361', '370375', 'SOTON/O.Q. 3101310', '335097', '211536', 'PC 17474', '330932', '2685', '29751', '248723', '347077', 'A/4. 39886', '349214', '2665', '2648', '16966', 'A/4. 34244', 'PC 17609', '347743', 'S.O./P.P. 3', '373450', 'PC 17756', 'SOTON/O.Q. 3101305', '334912', '347073', '3460', '349216', '220845', '2680', '112277', '336439', '28220', '228414', '343276', '234818', 'A/5. 13032', '2700', '350048', 'PC 17597', '8475', '347083', '2650', 'SC/Paris 2163', '349237', 'CA. 2343', '4137', '343120', '13507', '36865', '347063', '3411', '349213', 'Fa 265302', '370373', 'A/5 2817', 'PC 17569', '250651', '349221', 'LINE', '29103', '17764', '233639', '370371', '349231', 'PC 17761', 'S.W./PP 752', 'C.A. 5547', '8471', '349208', 'SC 1748', 'PP 9549', '349240', '36209', '236171', '349242', 'SOTON/O.Q. 392087', 'SC/PARIS 2133', '349219', '237668', '237442', '392091', 'PC 17757', 'PC 17558', '383121', '35273', '367230', '2623', '35281', 'S.O./P.P. 751', 'SOTON/OQ 392090', 'PC 17605', '370372', '111426', '347068', '28664', 'C.A. 31026', '349205', '13213', '349253', '110465', '113776', '110152', '248733', 'C.A. 17248', '349909', '347069', '3101277', '26360', 'A/4 45380', '14312', '2003', '364499', '349201', '113803', 'C.A. 18723', '112052', 'W./C. 14263', '5727', '250644', '2662', '2669', '31418', '3101265', '364516', 'S.C./A.4. 23567', 'SOTON/OQ 392089', 'W/C 14208', 'A/5. 3336', '111320', '223596', '28425', '11755', '362316', '330959', '65304', '4136', '36963', '348121', 'PC 17473', '244367', '345777', '349252', '363592', '113043', '347085', '239855', 'A/5 2466', '219533', '7552', '350026', 'SW/PP 751', '2626', '7540', 'PC 17483', '11752', 'A/5. 851', '237671', 'W.E.P. 5734', 'C 7077', '315096', '250646', '236853', '312993', 'PC 17755', '315153', '113056', 'A/5. 10482', 'PC 17485', '330909', '376566', '392092', '11967', '382651', 'STON/O2. 3101283', '350407', '2678', '345779', '370370', '13509', '27042', '16988', '345773', '347089', '370129', '28424', 'A/5 3540', '347468', '386525', 'C.A. 37671', '226593', '347082', 'A/5. 3337', '350035', '364512', 'PC 17476', '2683', '345765', '330877', '2668', 'A/5 21174', '113796', 'PC 17759', '9234', '3101281', '349215', '17421', '113050', '239865', '350034', '347061', '250653', '234604', '4135', '7267', '350060', '3101296', '29104', '3101276', '240929', 'CA. 2314', '250648', '29106', '315151', '244358', '2686', '244252', '349239', '348124', '29105', '28206', '335677', 'PC 17608', '372622', '2674', 'A/5. 2151', '17464', '19943', '36928', '371362', '11668', 'A./5. 2152', '374746', '111428', '113788', '11751', 'PC 17754', 'SC/PARIS 2131', '28551', '113784', '2672', '347464', '113028', '2666', 'SOTON/O.Q. 3101306', '347071', '345770', 'WE/P 5735', '231919', '113760', 'STON/O 2. 3101292', '19947', '113786', '2690', '2641', '17453', '2908', '349246', '349223', 'SOTON/O2 3101287', '349256', '324669', '21440', '348123', 'C 17369', 'SCO/W 1585', '14313', '347074', '384461', '12460', 'A4. 54510', '28134', '230080', '244270', 'SOTON/O2 3101272', '233866', 'SOTON/OQ 392086', 'W./C. 6609', '3101267', '315082', '231945', '17466', 'W./C. 14258', '350052', '2693', '349245', 'C 7076', 'C.A. 31921', '113807', '218629', 'C.A. 29566', '364498', '2697', '113051', '695', '364851', 'PC 17592', '347064', 'C.A. 24579', '345764', '113059', '367655', 'PC 17611', 'PC 17758', '349209', 'SC/AH 29037', '345780', '342826', '113773', '3101298', '364500', '36973', '367226', '347060', '236852', 'SC/AH Basle 541', '248738', '365226', '370365', '349233', 'STON/O 2. 3101293', '343095', '113509', '350406', '345364', '349225', '2677', '29011', '364849', '113503', '243880', '350029', 'SOTON/O.Q. 3101307', '111427', 'C.A. 6212', '349234', '27267', '113792', 'SOTON/O.Q. 3101312', '374887', '2625', '237798', '4579', '349204', '315093', '330958', '113572', '250649', '349206', 'PC 17477', 'W./C. 6608', '394140', '349249', 'A/4. 20589', '349254', '3101278', 'A/5 3536', 'PC 17604', '36864', '2695', '237736', '113055', '349217', 'C.A. 2315', '2659', 'STON/O2. 3101271', 'C.A. 34260', 'C.A. 33112', '350036', 'SC/PARIS 2149', '19950', 'C 7075', 'PC 17585', 'SC/AH 3085', 'A.5. 18509', 'C.A. 24580', '349244'], 'Fare': [0.0, 4.0125, 5.0, 6.2375, 6.4375, 6.45, 6.4958, 6.75, 6.8583, 6.95, 6.975, 7.0458, 7.05, 7.0542, 7.125, 7.1417, 7.225, 7.2292, 7.25, 7.3125, 7.4958, 7.5208, 7.55, 7.6292, 7.65, 7.725, 7.7292, 7.7333, 7.7375, 7.7417, 7.75, 7.775, 7.7875, 7.7958, 7.8, 7.8292, 7.8542, 7.875, 7.8792, 7.8875, 7.8958, 7.925, 8.0292, 8.05, 8.1125, 8.1375, 8.1583, 8.3, 8.3625, 8.4042, 8.4333, 8.4583, 8.5167, 8.6542, 8.6625, 8.6833, 8.7125, 8.85, 9.0, 9.2167, 9.225, 9.35, 9.475, 9.4833, 9.5, 9.5875, 9.825, 9.8375, 9.8417, 9.8458, 10.1708, 10.4625, 10.5, 10.5167, 11.1333, 11.2417, 11.5, 12.0, 12.275, 12.2875, 12.35, 12.475, 12.525, 12.65, 12.875, 13.0, 13.4167, 13.5, 13.7917, 13.8583, 13.8625, 14.0, 14.1083, 14.4, 14.4542, 14.4583, 14.5, 15.0, 15.0458, 15.05, 15.1, 15.2458, 15.5, 15.55, 15.7417, 15.75, 15.85, 15.9, 16.0, 16.1, 16.7, 17.4, 17.8, 18.0, 18.75, 18.7875, 19.2583, 19.5, 19.9667, 20.2125, 20.25, 20.525, 20.575, 21.0, 21.075, 21.6792, 22.025, 22.3583, 22.525, 23.0, 23.25, 23.45, 24.0, 24.15, 25.4667, 25.5875, 25.925, 25.9292, 26.0, 26.25, 26.2833, 26.2875, 26.3875, 26.55, 27.0, 27.7208, 27.75, 27.9, 28.5, 28.7125, 29.0, 29.125, 29.7, 30.0, 30.0708, 30.5, 30.6958, 31.0, 31.275, 31.3875, 32.3208, 32.5, 33.0, 33.5, 34.0208, 34.375, 34.6542, 35.0, 35.5, 36.75, 37.0042, 38.5, 39.0, 39.4, 39.6, 39.6875, 40.125, 41.5792, 42.4, 46.9, 47.1, 49.5, 49.5042, 50.0, 50.4958, 51.4792, 51.8625, 52.0, 52.5542, 53.1, 55.0, 55.4417, 55.9, 56.4958, 56.9292, 57.0, 57.9792, 59.4, 61.175, 61.3792, 61.9792, 63.3583, 65.0, 66.6, 69.3, 69.55, 71.0, 71.2833, 73.5, 75.25, 76.2917, 76.7292, 77.2875, 77.9583, 78.2667, 78.85, 79.2, 79.65, 80.0, 81.8583, 82.1708, 83.1583, 83.475, 86.5, 89.1042, 90.0, 91.0792, 93.5, 106.425, 108.9, 110.8833, 113.275, 120.0, 133.65, 134.5, 135.6333, 146.5208, 151.55, 153.4625, 164.8667, 211.3375, 211.5, 221.7792, 227.525, 247.5208, 262.375, 263.0, 512.3292], 'Embarked': [None, 'S', 'C', 'Q'], 'Cabin_C23 C25 C27': [0, 1], 'Cabin_G6': [0, 1], 'Cabin_null': [0, 1]}\n"
     ]
    }
   ],
   "source": [
    "\n",
    "d = df_new.select(pl.all().implode().list.unique()).to_dict()\n",
    "d = {k: v.to_list()[0] for k, v in d.items()}\n",
    "print(d)"
   ]
  },
  {
   "cell_type": "code",
   "execution_count": 80,
   "metadata": {},
   "outputs": [
    {
     "data": {
      "text/plain": [
       "{'Cabin': [None, 'G6', 'C23 C25 C27', 'B96 B98']}"
      ]
     },
     "execution_count": 80,
     "metadata": {},
     "output_type": "execute_result"
    }
   ],
   "source": [
    "fit.most_freq"
   ]
  },
  {
   "cell_type": "code",
   "execution_count": 54,
   "metadata": {},
   "outputs": [
    {
     "data": {
      "text/plain": [
       "[1, 2]"
      ]
     },
     "execution_count": 54,
     "metadata": {},
     "output_type": "execute_result"
    }
   ],
   "source": [
    "list([1,2])"
   ]
  },
  {
   "cell_type": "code",
   "execution_count": 46,
   "metadata": {},
   "outputs": [
    {
     "data": {
      "text/html": [
       "<div><style>\n",
       ".dataframe > thead > tr,\n",
       ".dataframe > tbody > tr {\n",
       "  text-align: right;\n",
       "  white-space: pre-wrap;\n",
       "}\n",
       "</style>\n",
       "<small>shape: (891, 1)</small><table border=\"1\" class=\"dataframe\"><thead><tr><th>Cabin</th></tr><tr><td>str</td></tr></thead><tbody><tr><td>null</td></tr><tr><td>&quot;C85&quot;</td></tr><tr><td>null</td></tr><tr><td>null</td></tr><tr><td>null</td></tr><tr><td>&hellip;</td></tr><tr><td>null</td></tr><tr><td>null</td></tr><tr><td>null</td></tr><tr><td>null</td></tr><tr><td>null</td></tr></tbody></table></div>"
      ],
      "text/plain": [
       "shape: (891, 1)\n",
       "┌───────┐\n",
       "│ Cabin │\n",
       "│ ---   │\n",
       "│ str   │\n",
       "╞═══════╡\n",
       "│ null  │\n",
       "│ C85   │\n",
       "│ null  │\n",
       "│ null  │\n",
       "│ null  │\n",
       "│ …     │\n",
       "│ null  │\n",
       "│ null  │\n",
       "│ null  │\n",
       "│ null  │\n",
       "│ null  │\n",
       "└───────┘"
      ]
     },
     "execution_count": 46,
     "metadata": {},
     "output_type": "execute_result"
    }
   ],
   "source": [
    "i = 'Cabin'\n",
    "df[[i]].with_columns(pl.when(pl.col(i).is_in(['C85']) == False)\n",
    "                                     .then(pl.lit(None))\n",
    "                                     .otherwise(pl.col(i))\n",
    "                                     .alias(i)\n",
    "                                     )"
   ]
  },
  {
   "cell_type": "code",
   "execution_count": 53,
   "metadata": {},
   "outputs": [
    {
     "data": {
      "text/plain": [
       "True"
      ]
     },
     "execution_count": 53,
     "metadata": {},
     "output_type": "execute_result"
    }
   ],
   "source": [
    "type('Cabin') == str"
   ]
  },
  {
   "cell_type": "code",
   "execution_count": 4,
   "metadata": {},
   "outputs": [
    {
     "ename": "NameError",
     "evalue": "name 'data' is not defined",
     "output_type": "error",
     "traceback": [
      "\u001b[0;31m---------------------------------------------------------------------------\u001b[0m",
      "\u001b[0;31mNameError\u001b[0m                                 Traceback (most recent call last)",
      "Cell \u001b[0;32mIn[4], line 1\u001b[0m\n\u001b[0;32m----> 1\u001b[0m \u001b[43mdata\u001b[49m\n",
      "\u001b[0;31mNameError\u001b[0m: name 'data' is not defined"
     ]
    }
   ],
   "source": [
    "data"
   ]
  },
  {
   "cell_type": "code",
   "execution_count": 74,
   "metadata": {},
   "outputs": [
    {
     "name": "stdout",
     "output_type": "stream",
     "text": [
      "a\n"
     ]
    }
   ],
   "source": [
    "z = '1'\n",
    "if z:\n",
    "    print('a')"
   ]
  },
  {
   "cell_type": "code",
   "execution_count": 23,
   "metadata": {},
   "outputs": [],
   "source": [
    "def UserForm(fruits):\n",
    "    fruits: List | Dict \n",
    "\n",
    "    return fruits"
   ]
  },
  {
   "cell_type": "code",
   "execution_count": 24,
   "metadata": {},
   "outputs": [
    {
     "data": {
      "text/plain": [
       "'a'"
      ]
     },
     "execution_count": 24,
     "metadata": {},
     "output_type": "execute_result"
    }
   ],
   "source": [
    "UserForm(fruits='a')"
   ]
  },
  {
   "cell_type": "code",
   "execution_count": 31,
   "metadata": {},
   "outputs": [
    {
     "ename": "ValidationError",
     "evalue": "2 validation errors for Spam\nfoo\n  Field required [type=missing, input_value={}, input_type=dict]\n    For further information visit https://errors.pydantic.dev/2.8/v/missing\nbars\n  Field required [type=missing, input_value={}, input_type=dict]\n    For further information visit https://errors.pydantic.dev/2.8/v/missing",
     "output_type": "error",
     "traceback": [
      "\u001b[0;31m---------------------------------------------------------------------------\u001b[0m",
      "\u001b[0;31mValidationError\u001b[0m                           Traceback (most recent call last)",
      "Cell \u001b[0;32mIn[31], line 20\u001b[0m\n\u001b[1;32m     17\u001b[0m     foo: Foo\n\u001b[1;32m     18\u001b[0m     bars: Bar\n\u001b[0;32m---> 20\u001b[0m \u001b[43mSpam\u001b[49m\u001b[43m(\u001b[49m\u001b[43m)\u001b[49m\n",
      "File \u001b[0;32m~/miniconda3/lib/python3.12/site-packages/pydantic/main.py:193\u001b[0m, in \u001b[0;36mBaseModel.__init__\u001b[0;34m(self, **data)\u001b[0m\n\u001b[1;32m    191\u001b[0m \u001b[38;5;66;03m# `__tracebackhide__` tells pytest and some other tools to omit this function from tracebacks\u001b[39;00m\n\u001b[1;32m    192\u001b[0m __tracebackhide__ \u001b[38;5;241m=\u001b[39m \u001b[38;5;28;01mTrue\u001b[39;00m\n\u001b[0;32m--> 193\u001b[0m \u001b[38;5;28;43mself\u001b[39;49m\u001b[38;5;241;43m.\u001b[39;49m\u001b[43m__pydantic_validator__\u001b[49m\u001b[38;5;241;43m.\u001b[39;49m\u001b[43mvalidate_python\u001b[49m\u001b[43m(\u001b[49m\u001b[43mdata\u001b[49m\u001b[43m,\u001b[49m\u001b[43m \u001b[49m\u001b[43mself_instance\u001b[49m\u001b[38;5;241;43m=\u001b[39;49m\u001b[38;5;28;43mself\u001b[39;49m\u001b[43m)\u001b[49m\n",
      "\u001b[0;31mValidationError\u001b[0m: 2 validation errors for Spam\nfoo\n  Field required [type=missing, input_value={}, input_type=dict]\n    For further information visit https://errors.pydantic.dev/2.8/v/missing\nbars\n  Field required [type=missing, input_value={}, input_type=dict]\n    For further information visit https://errors.pydantic.dev/2.8/v/missing"
     ]
    }
   ],
   "source": [
    "from typing import List, Optional\n",
    "\n",
    "from pydantic import BaseModel\n",
    "\n",
    "\n",
    "class Foo(BaseModel):\n",
    "    count: int\n",
    "    size: Optional[float] = None\n",
    "\n",
    "\n",
    "class Bar(BaseModel):\n",
    "    apple: str = 'x'\n",
    "    banana: str = 'y'\n",
    "\n",
    "\n",
    "class Spam(BaseModel):\n",
    "    foo: Foo\n",
    "    bars: Bar\n",
    "\n",
    "Spam()"
   ]
  },
  {
   "cell_type": "code",
   "execution_count": 28,
   "metadata": {},
   "outputs": [
    {
     "data": {
      "text/plain": [
       "Spam(foo=Foo(count=4, size=None), bars=[Bar(apple='x1', banana='y'), Bar(apple='x2', banana='y')])"
      ]
     },
     "execution_count": 28,
     "metadata": {},
     "output_type": "execute_result"
    }
   ],
   "source": [
    "def "
   ]
  },
  {
   "cell_type": "code",
   "execution_count": 9,
   "metadata": {},
   "outputs": [],
   "source": [
    "import pandas as pd\n",
    "df = pd.DataFrame()"
   ]
  },
  {
   "cell_type": "code",
   "execution_count": 14,
   "metadata": {},
   "outputs": [
    {
     "data": {
      "text/plain": [
       "True"
      ]
     },
     "execution_count": 14,
     "metadata": {},
     "output_type": "execute_result"
    }
   ],
   "source": [
    "isinstance(df, pd.DataFrame)"
   ]
  },
  {
   "cell_type": "code",
   "execution_count": null,
   "metadata": {},
   "outputs": [],
   "source": []
  }
 ],
 "metadata": {
  "kernelspec": {
   "display_name": "Python 3 (ipykernel)",
   "language": "python",
   "name": "python3"
  },
  "language_info": {
   "codemirror_mode": {
    "name": "ipython",
    "version": 3
   },
   "file_extension": ".py",
   "mimetype": "text/x-python",
   "name": "python",
   "nbconvert_exporter": "python",
   "pygments_lexer": "ipython3",
   "version": "3.12.4"
  }
 },
 "nbformat": 4,
 "nbformat_minor": 4
}
